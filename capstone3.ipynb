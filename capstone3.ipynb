{
 "cells": [
  {
   "cell_type": "markdown",
   "metadata": {
    "id": "jKrDFM_IIFlp"
   },
   "source": [
    "<H1> <I><B> CAPSTONE PROJECT\n"
   ]
  },
  {
   "cell_type": "code",
   "execution_count": null,
   "metadata": {
    "colab": {
     "base_uri": "https://localhost:8080/"
    },
    "id": "h1dhPGKxFWE8",
    "outputId": "7ae829b2-5641-43a3-9cb5-3560a9ce6ee1"
   },
   "outputs": [
    {
     "name": "stdout",
     "output_type": "stream",
     "text": [
      "Collecting Faker\n",
      "  Downloading faker-37.4.2-py3-none-any.whl.metadata (15 kB)\n",
      "Requirement already satisfied: tzdata in /usr/local/lib/python3.11/dist-packages (from Faker) (2025.2)\n",
      "Downloading faker-37.4.2-py3-none-any.whl (1.9 MB)\n",
      "\u001b[2K   \u001b[90m━━━━━━━━━━━━━━━━━━━━━━━━━━━━━━━━━━━━━━━━\u001b[0m \u001b[32m1.9/1.9 MB\u001b[0m \u001b[31m26.1 MB/s\u001b[0m eta \u001b[36m0:00:00\u001b[0m\n",
      "\u001b[?25h"
     ]
    }
   ],
   "source": [
    "pip install Faker"
   ]
  },
  {
   "cell_type": "code",
   "execution_count": null,
   "metadata": {
    "colab": {
     "base_uri": "https://localhost:8080/"
    },
    "id": "ZNLTFPR_I5-6",
    "outputId": "0147aabe-6136-4dc0-d612-67c0a24d2846"
   },
   "outputs": [
    {
     "name": "stdout",
     "output_type": "stream",
     "text": [
      "🔄 Generating providers.json...\n",
      "🔄 Generating patients.csv...\n",
      "🔄 Generating base claim records...\n",
      "➕ Injecting nulls and duplicates...\n",
      "\n",
      "✅ Done!\n",
      "• claims.csv → 204000 rows\n",
      "• patients.csv → 10000 rows\n",
      "• providers.json → 1000 providers\n",
      "\n"
     ]
    }
   ],
   "source": [
    "import csv\n",
    "import json\n",
    "import random\n",
    "import uuid\n",
    "from faker import Faker\n",
    "from datetime import datetime, timedelta\n",
    "\n",
    "fake = Faker()\n",
    "\n",
    "# Configuration\n",
    "NUM_PATIENTS = 10000\n",
    "NUM_PROVIDERS = 1000\n",
    "NUM_CLAIMS = 200000\n",
    "DUPLICATE_RATE = 0.02\n",
    "NULL_RATE = 0.03\n",
    "\n",
    "# Output Files\n",
    "CLAIMS_CSV = \"claims.csv\"\n",
    "PATIENTS_CSV = \"patients.csv\"\n",
    "PROVIDERS_JSON = \"providers.json\"\n",
    "\n",
    "# Generate IDs\n",
    "patient_ids = [f\"pat_{i}\" for i in range(1, NUM_PATIENTS + 1)]\n",
    "provider_ids = [f\"prov_{i}\" for i in range(1, NUM_PROVIDERS + 1)]\n",
    "\n",
    "# Common reference values\n",
    "diagnosis_codes = ['E11.9', 'I10', 'J45.909', 'K21.9', 'M54.5', 'F41.1']\n",
    "procedure_codes = ['99213', '93000', '80050', '70450', '20550']\n",
    "submission_modes = ['Online', 'Paper', 'EDI']\n",
    "claim_statuses = ['Approved', 'Denied', 'Pending']\n",
    "specialties = ['Cardiology', 'Neurology', 'Dermatology', 'General', 'Psychiatry']\n",
    "insurance_providers = ['Aetna', 'Cigna', 'BlueCross', 'UnitedHealth']\n",
    "locations = ['New York', 'Los Angeles', 'Chicago', 'Houston', 'Phoenix', 'Miami']\n",
    "\n",
    "# ---------- PROVIDERS ----------\n",
    "def generate_provider(provider_id):\n",
    "    return {\n",
    "        \"provider_id\": provider_id,\n",
    "        \"npi_number\": str(fake.unique.random_number(digits=10)),\n",
    "        \"name\": fake.name(),\n",
    "        \"specialty\": random.choice(specialties),\n",
    "        \"organization\": fake.company(),\n",
    "        \"phone_number\": fake.phone_number(),\n",
    "        \"email\": fake.email() if random.random() > 0.02 else \"\",\n",
    "        \"address\": fake.address(),\n",
    "        \"city\": fake.city(),\n",
    "        \"state\": fake.state_abbr(),\n",
    "        \"zip_code\": fake.zipcode(),\n",
    "        \"license_number\": fake.bothify(text='LIC#######'),\n",
    "        \"license_state\": fake.state_abbr(),\n",
    "        \"years_of_experience\": random.randint(1, 35),\n",
    "        \"accepting_new_patients\": random.choice([True, False])\n",
    "    }\n",
    "\n",
    "print(\"🔄 Generating providers.json...\")\n",
    "providers = [generate_provider(pid) for pid in provider_ids]\n",
    "with open(PROVIDERS_JSON, \"w\") as f:\n",
    "    json.dump(providers, f, indent=2)\n",
    "\n",
    "# ---------- PATIENTS ----------\n",
    "def generate_patient(patient_id):\n",
    "    return {\n",
    "        \"patient_id\": patient_id,\n",
    "        \"first_name\": fake.first_name(),\n",
    "        \"last_name\": fake.last_name(),\n",
    "        \"date_of_birth\": fake.date_of_birth(minimum_age=18, maximum_age=90),\n",
    "        \"gender\": random.choice(['Male', 'Female', 'Other']),\n",
    "        \"phone_number\": fake.phone_number() if random.random() > 0.05 else \"\",\n",
    "        \"email\": fake.email(),\n",
    "        \"address\": fake.street_address(),\n",
    "        \"city\": fake.city() if random.random() > 0.03 else \"\",\n",
    "        \"insurance_provider\": random.choice(insurance_providers),\n",
    "        \"insurance_id\": fake.bothify(text='INS-#####'),\n",
    "        \"known_conditions\": \", \".join(fake.words(nb=random.randint(1, 3))),\n",
    "        \"last_visit_date\": fake.date_this_year()\n",
    "    }\n",
    "\n",
    "print(\"🔄 Generating patients.csv...\")\n",
    "patients = [generate_patient(pid) for pid in patient_ids]\n",
    "with open(PATIENTS_CSV, \"w\", newline=\"\") as f:\n",
    "    writer = csv.DictWriter(f, fieldnames=patients[0].keys())\n",
    "    writer.writeheader()\n",
    "    writer.writerows(patients)\n",
    "\n",
    "# ---------- CLAIMS ----------\n",
    "def random_date_within_last_year():\n",
    "    start = datetime.now() - timedelta(days=365)\n",
    "    return (start + timedelta(days=random.randint(0, 365))).date()\n",
    "\n",
    "def generate_claim():\n",
    "    patient_id = random.choice(patient_ids)\n",
    "    provider_id = random.choice(provider_ids)\n",
    "\n",
    "    service_start = random_date_within_last_year()\n",
    "    service_end = service_start + timedelta(days=random.randint(1, 7))\n",
    "    claim_date = service_end + timedelta(days=random.randint(0, 3))\n",
    "\n",
    "    claim_amount = round(random.uniform(50, 3000), 2)\n",
    "    if random.random() < 0.01:\n",
    "        claim_amount = round(random.uniform(10000, 50000), 2)  # outlier\n",
    "\n",
    "    paid_amount = round(claim_amount * random.uniform(0.5, 1.0), 2)\n",
    "\n",
    "    return {\n",
    "        \"claim_id\": str(uuid.uuid4()),\n",
    "        \"patient_id\": patient_id,\n",
    "        \"provider_id\": provider_id,\n",
    "        \"claim_date\": claim_date.isoformat(),\n",
    "        \"diagnosis_code\": random.choice(diagnosis_codes),\n",
    "        \"procedure_code\": random.choice(procedure_codes),\n",
    "        \"claim_amount\": claim_amount,\n",
    "        \"paid_amount\": paid_amount,\n",
    "        \"is_emergency\": random.choice([True, False]),\n",
    "        \"location\": random.choice(locations + [\"Unknown\"] * 2),\n",
    "        \"submission_mode\": random.choice(submission_modes),\n",
    "        \"claim_status\": random.choice(claim_statuses),\n",
    "        \"service_start_date\": service_start.isoformat(),\n",
    "        \"service_end_date\": service_end.isoformat(),\n",
    "        \"billing_npi\": str(fake.random_number(digits=10))\n",
    "    }\n",
    "\n",
    "print(\"🔄 Generating base claim records...\")\n",
    "claims = [generate_claim() for _ in range(NUM_CLAIMS)]\n",
    "\n",
    "print(\"➕ Injecting nulls and duplicates...\")\n",
    "# Add null values\n",
    "for _ in range(int(NULL_RATE * NUM_CLAIMS)):\n",
    "    record = random.choice(claims)\n",
    "    field = random.choice(list(record.keys()))\n",
    "    record[field] = \"\"\n",
    "\n",
    "# Add duplicates\n",
    "duplicates = random.choices(claims, k=int(DUPLICATE_RATE * NUM_CLAIMS))\n",
    "claims += duplicates\n",
    "random.shuffle(claims)\n",
    "\n",
    "# Save claims.csv\n",
    "with open(CLAIMS_CSV, \"w\", newline=\"\") as f:\n",
    "    writer = csv.DictWriter(f, fieldnames=claims[0].keys())\n",
    "    writer.writeheader()\n",
    "    writer.writerows(claims)\n",
    "\n",
    "print(f\"\\n✅ Done!\")\n",
    "print(f\"• {CLAIMS_CSV} → {len(claims)} rows\")\n",
    "print(f\"• {PATIENTS_CSV} → {len(patients)} rows\")\n",
    "print(f\"• {PROVIDERS_JSON} → {len(providers)} providers\\n\")\n"
   ]
  },
  {
   "cell_type": "code",
   "execution_count": null,
   "metadata": {
    "id": "Fi5-4hvdKUBf"
   },
   "outputs": [],
   "source": [
    "from pyspark.sql import SparkSession, DataFrame\n",
    "\n",
    "spark = SparkSession.builder.appName(\"MySparkApp\").getOrCreate()"
   ]
  },
  {
   "cell_type": "code",
   "execution_count": null,
   "metadata": {
    "id": "v4b6mjsHQGo5"
   },
   "outputs": [],
   "source": [
    "df_claims = spark.read.csv(\"file:///content/claims.csv\", header=True, inferSchema=True)"
   ]
  },
  {
   "cell_type": "code",
   "execution_count": null,
   "metadata": {
    "colab": {
     "base_uri": "https://localhost:8080/"
    },
    "id": "rcqnQmigU2kE",
    "outputId": "3958887c-a8f3-4ef1-9aa8-7930d013e267"
   },
   "outputs": [
    {
     "name": "stdout",
     "output_type": "stream",
     "text": [
      "+--------------------+----------+-----------+----------+--------------+--------------+------------+-----------+------------+-----------+---------------+------------+------------------+----------------+-----------+\n",
      "|            claim_id|patient_id|provider_id|claim_date|diagnosis_code|procedure_code|claim_amount|paid_amount|is_emergency|   location|submission_mode|claim_status|service_start_date|service_end_date|billing_npi|\n",
      "+--------------------+----------+-----------+----------+--------------+--------------+------------+-----------+------------+-----------+---------------+------------+------------------+----------------+-----------+\n",
      "|1cedce0b-0510-423...|  pat_2525|   prov_131|2024-10-05|         F41.1|         20550|      2072.2|    1380.49|        true|Los Angeles|         Online|    Approved|        2024-09-28|      2024-10-04| 7730035281|\n",
      "|707c9ad3-5737-49e...|  pat_4536|    prov_52|2025-04-11|         M54.5|         20550|     1624.61|    1208.29|        true|    Unknown|          Paper|      Denied|        2025-04-10|      2025-04-11| 3791535982|\n",
      "|e1253a30-37b2-418...|  pat_8883|   prov_374|2025-04-04|         E11.9|         93000|      405.94|     332.24|       false|    Unknown|            EDI|    Approved|        2025-03-30|      2025-04-03| 3746046473|\n",
      "|17aa6567-68a2-450...|  pat_9695|   prov_893|2025-02-18|         F41.1|         20550|      221.58|     160.13|        true|      Miami|            EDI|    Approved|        2025-02-12|      2025-02-15| 3469687514|\n",
      "|1bd7114f-1208-4fe...|  pat_4428|   prov_264|2025-02-17|           I10|         80050|      249.93|     140.89|       false|    Unknown|         Online|      Denied|        2025-02-12|      2025-02-16| 9199010265|\n",
      "|7c56fdb1-1aec-49a...|   pat_671|   prov_116|2024-10-02|         F41.1|         93000|     1592.37|    1019.66|        true|    Phoenix|         Online|      Denied|        2024-09-26|      2024-09-30| 1519322678|\n",
      "|c839d324-abd6-454...|  pat_9533|   prov_485|2025-05-15|         E11.9|         99213|     2286.76|    2231.71|       false|    Phoenix|         Online|      Denied|        2025-05-08|      2025-05-15|  133834554|\n",
      "|d89b929a-db99-460...|  pat_8053|   prov_196|2024-11-09|         M54.5|         93000|     1880.06|     977.28|       false|    Houston|         Online|      Denied|        2024-11-01|      2024-11-08| 4064478571|\n",
      "|b097fe6e-7287-4b4...|  pat_1430|   prov_938|2025-05-02|         E11.9|         20550|      198.66|     151.05|       false|    Unknown|         Online|      Denied|        2025-04-26|      2025-05-02| 7942663574|\n",
      "|8cbc8885-6af9-458...|  pat_6033|   prov_670|2024-12-26|         E11.9|         20550|      666.82|     463.28|        true|    Houston|          Paper|    Approved|        2024-12-20|      2024-12-26| 9578231208|\n",
      "|96e5f362-19dd-402...|  pat_2802|   prov_225|2025-06-11|         M54.5|         93000|      708.81|     445.36|       false|Los Angeles|         Online|      Denied|        2025-06-04|      2025-06-09| 9507213389|\n",
      "|9e5799f9-a81f-49c...|  pat_6620|   prov_597|2024-11-08|         K21.9|         93000|      899.27|     650.74|        true|Los Angeles|            EDI|     Pending|        2024-10-31|      2024-11-05| 2381965028|\n",
      "|9ee62e83-9bb8-4db...|   pat_997|   prov_809|2024-11-03|         F41.1|         93000|     1223.99|     757.69|        true|      Miami|         Online|      Denied|        2024-10-28|      2024-11-02| 1325452562|\n",
      "|6ab61347-8014-450...|  pat_2984|   prov_464|2025-03-27|         E11.9|         80050|     1429.87|    1076.58|        true|      Miami|         Online|    Approved|        2025-03-25|      2025-03-26| 5606403625|\n",
      "|d24dddf1-2455-4d3...|  pat_6205|   prov_192|2025-02-26|         K21.9|         70450|      1925.8|    1585.03|        true|    Unknown|            EDI|    Approved|        2025-02-22|      2025-02-25|  415945091|\n",
      "|8dbbe2d9-d0e0-4e6...|  pat_8024|   prov_351|2024-12-05|         F41.1|         80050|       601.7|     451.68|       false|   New York|          Paper|     Pending|        2024-12-03|      2024-12-05| 9367274683|\n",
      "|ffb30ab2-18ae-4f0...|  pat_3679|   prov_889|2024-08-05|         M54.5|         99213|     2405.21|    2003.19|        true|    Unknown|         Online|    Approved|        2024-08-01|      2024-08-05| 4170282036|\n",
      "|f923fa3e-c503-480...|  pat_5229|   prov_850|2025-01-17|         F41.1|         93000|      553.55|     505.01|       false|      Miami|         Online|    Approved|        2025-01-15|      2025-01-17| 5804251366|\n",
      "|27fc6ea3-5ce9-439...|  pat_7133|   prov_696|2025-05-02|         M54.5|         20550|     2087.01|    1257.05|        true|    Unknown|         Online|      Denied|        2025-04-25|      2025-04-29|  267690790|\n",
      "|f1e8ddbb-d919-44d...|  pat_6223|   prov_685|2025-01-07|         E11.9|          NULL|      542.54|     534.91|        true|   New York|          Paper|    Approved|        2025-01-01|      2025-01-05| 1916225489|\n",
      "+--------------------+----------+-----------+----------+--------------+--------------+------------+-----------+------------+-----------+---------------+------------+------------------+----------------+-----------+\n",
      "only showing top 20 rows\n",
      "\n"
     ]
    }
   ],
   "source": [
    "df_claims.show()"
   ]
  },
  {
   "cell_type": "code",
   "execution_count": null,
   "metadata": {
    "id": "ykFH2EwmU9ZF"
   },
   "outputs": [],
   "source": [
    "df_patients = spark.read.csv(\"file:///content/patients.csv\", header=True, inferSchema=True)"
   ]
  },
  {
   "cell_type": "code",
   "execution_count": null,
   "metadata": {
    "colab": {
     "base_uri": "https://localhost:8080/"
    },
    "id": "9upclTY9U6ld",
    "outputId": "87853600-154e-4f4b-92c5-5f4c50bf2ade"
   },
   "outputs": [
    {
     "name": "stdout",
     "output_type": "stream",
     "text": [
      "+----------+----------+----------+-------------+------+--------------------+--------------------+--------------------+------------------+------------------+------------+--------------------+---------------+\n",
      "|patient_id|first_name| last_name|date_of_birth|gender|        phone_number|               email|             address|              city|insurance_provider|insurance_id|    known_conditions|last_visit_date|\n",
      "+----------+----------+----------+-------------+------+--------------------+--------------------+--------------------+------------------+------------------+------------+--------------------+---------------+\n",
      "|     pat_1|      Ryan|Mclaughlin|   1951-12-12| Other|+1-650-256-6781x7190|   ggray@example.com|120 Brandon Mount...|    South Jodyfort|             Aetna|   INS-99606|  Congress, show, TV|     2025-05-11|\n",
      "|     pat_2|     Holly|      Holt|   1975-01-02|  Male|        716.817.3340|morganward@exampl...|  235 Vanessa Valley|  Port Andrewmouth|             Cigna|   INS-98271|      language, give|     2025-01-10|\n",
      "|     pat_3|    Joseph|     Floyd|   1961-10-13|  Male|   422.638.9911x8907|maryhorne@example...|   24389 Joseph Path|      Smithchester|      UnitedHealth|   INS-45476|particularly, abo...|     2025-01-31|\n",
      "|     pat_4|   Timothy|     Brady|   1959-12-24|Female|  644-556-9169x14706| wstokes@example.com|96085 Leon Pines ...|        Dianemouth|             Cigna|   INS-76952|   social, box, tend|     2025-03-16|\n",
      "|     pat_5|  Danielle|    Miller|   1981-12-18|  Male|    441-418-7844x065| jason10@example.net|3468 Andrew Route...| Port Kimberlyview|             Cigna|   INS-98184|          fine, lead|     2025-04-03|\n",
      "|     pat_6|    Hector|     Davis|   1941-11-20| Other|       (657)493-9218| billy47@example.net|415 Stark Meadows...|     East Jennifer|             Cigna|   INS-95438|   because, identify|     2025-07-14|\n",
      "|     pat_7|    Austin|     Davis|   2007-04-02|  Male|   400-343-9309x2068|samanthadavis@exa...|   621 Ashley Garden|          West Amy|             Cigna|   INS-42344|            standard|     2025-01-18|\n",
      "|     pat_8|    Alison|     Boyle|   1995-04-14|  Male|  (490)792-9823x9289|  qhaney@example.org|    317 Wanda Island|        Jameshaven|         BlueCross|   INS-50189|             natural|     2025-06-10|\n",
      "|     pat_9|      Kyle|    Acosta|   1965-05-16|  Male|        655-666-5546|melanie40@example...|1751 Juan Park Ap...|      Daniellefort|         BlueCross|   INS-06031|moment, official,...|     2025-03-03|\n",
      "|    pat_10|    Mariah|  Bradford|   1984-10-25|Female|+1-360-820-7047x3...|  ydixon@example.com|1744 Steven Fork ...|              NULL|             Cigna|   INS-70443|                road|     2025-01-12|\n",
      "|    pat_11|  Angelica|    Fuller|   1952-07-15|  Male|          7584839785|rachelharvey@exam...|20071 Brett Lakes...|         Brianview|             Cigna|   INS-59504|          seat, pass|     2025-05-08|\n",
      "|    pat_12|  Jennifer|   Schultz|   1995-10-28|  Male|001-863-841-8749x220|jessica48@example...|17227 Pennington ...|North Jasminemouth|      UnitedHealth|   INS-95325|               blood|     2025-01-22|\n",
      "|    pat_13|     James|    Hodges|   1946-11-08|  Male|        484-727-9448|epittman@example.org|313 Newman Traffi...|          Amyville|             Cigna|   INS-32293|        happy, later|     2025-06-05|\n",
      "|    pat_14|    Andrea|      King|   1969-11-20|Female|  (639)484-5955x1512|clarence70@exampl...|     48383 Ford Dale|West Travisborough|      UnitedHealth|   INS-05419| cause, test, nearly|     2025-06-01|\n",
      "|    pat_15|  Brittney|   Barajas|   1938-12-29| Other|          9234098771| tguzman@example.net|7785 Corey Lakes ...|       Johnsonberg|             Cigna|   INS-47892|              always|     2025-03-13|\n",
      "|    pat_16|    Travis|      Hays|   1973-11-06|Female|     +1-461-995-4410|brownchristopher@...| 4824 Taylor Streets|          Huffport|      UnitedHealth|   INS-17581|            employee|     2025-06-22|\n",
      "|    pat_17|   Monique|   Wheeler|   2005-07-24|  Male|        893-374-5639|clayton18@example...|61150 Armstrong R...|         Port Lisa|             Cigna|   INS-21838|                work|     2025-02-12|\n",
      "|    pat_18|    Sandra|     Evans|   1982-10-08|Female|          4789538336|fwebster@example.net| 61300 Dennis Courts|         Webbburgh|             Cigna|   INS-01716|             several|     2025-05-13|\n",
      "|    pat_19|      Troy|   Spencer|   1967-08-02|Female|                NULL|reginajones@examp...| 2525 Higgins Summit|   Port Sarahburgh|             Aetna|   INS-60613|                drop|     2025-03-01|\n",
      "|    pat_20|     Larry|      Mora|   1948-05-30|Female|001-806-517-5271x...|heathkiara@exampl...|04726 Cole Pines ...|  Christopherburgh|             Aetna|   INS-01429|              become|     2025-01-04|\n",
      "+----------+----------+----------+-------------+------+--------------------+--------------------+--------------------+------------------+------------------+------------+--------------------+---------------+\n",
      "only showing top 20 rows\n",
      "\n"
     ]
    }
   ],
   "source": [
    "df_patients.show()"
   ]
  },
  {
   "cell_type": "code",
   "execution_count": null,
   "metadata": {
    "colab": {
     "base_uri": "https://localhost:8080/"
    },
    "id": "jKqHZ5vXVnlp",
    "outputId": "e6b4b9e9-8797-43a8-85d9-6cf4f880bcc0"
   },
   "outputs": [
    {
     "data": {
      "text/plain": [
       "Row(patient_id='pat_1', first_name='Ryan', last_name='Mclaughlin', date_of_birth=datetime.date(1951, 12, 12), gender='Other', phone_number='+1-650-256-6781x7190', email='ggray@example.com', address='120 Brandon Mountain Apt. 474', city='South Jodyfort', insurance_provider='Aetna', insurance_id='INS-99606', known_conditions='Congress, show, TV', last_visit_date=datetime.date(2025, 5, 11))"
      ]
     },
     "execution_count": 12,
     "metadata": {},
     "output_type": "execute_result"
    }
   ],
   "source": [
    "df_patients.head()"
   ]
  },
  {
   "cell_type": "code",
   "execution_count": null,
   "metadata": {
    "id": "cmRAGlE-Xlrn"
   },
   "outputs": [],
   "source": [
    "df_providers = spark.read.option(\"multiline\", True).json(\"file:///content/providers.json\")"
   ]
  },
  {
   "cell_type": "code",
   "execution_count": null,
   "metadata": {
    "colab": {
     "base_uri": "https://localhost:8080/"
    },
    "id": "knenZ7XRdhoI",
    "outputId": "9c40facc-16a2-4afb-a460-88a7b66dcb16"
   },
   "outputs": [
    {
     "name": "stdout",
     "output_type": "stream",
     "text": [
      "+----------------------+--------------------+-----------------+--------------------+--------------+-------------+------------------+----------+--------------------+--------------------+-----------+-----------+-----+-------------------+--------+\n",
      "|accepting_new_patients|             address|             city|               email|license_number|license_state|              name|npi_number|        organization|        phone_number|provider_id|  specialty|state|years_of_experience|zip_code|\n",
      "+----------------------+--------------------+-----------------+--------------------+--------------+-------------+------------------+----------+--------------------+--------------------+-----------+-----------+-----+-------------------+--------+\n",
      "|                 false|336 Moss Cliffs\\n...|      South Laura|kelsey79@example.org|    LIC2382909|           MP|         Rick Vang|1272565345|          Parker Ltd|     +1-713-322-9838|     prov_1|  Neurology|   UT|                 14|   44487|\n",
      "|                  true|48071 Marc Ville\\...|    Lake Johnport|                    |    LIC2537892|           OK|      Sean Mcclain|2513653293|          Morris LLC|          9062773093|     prov_2|  Neurology|   MS|                 19|   52529|\n",
      "|                  true|0912 Gallagher Sk...|      Hallchester|courtneyanderson@...|    LIC8807400|           MH|  Thomas Cervantes|1674321437|           Diaz-Tran|          5086874077|     prov_3|  Neurology|   NJ|                 14|   39110|\n",
      "|                  true|2336 Jonathan Cre...|      New Gregory|meredithaguilar@e...|    LIC2000118|           VA|    Bobby Stephens|6457494180|Phillips, Buck an...|    457-913-7473x408|     prov_4|Dermatology|   VI|                  2|   38214|\n",
      "|                  true|050 Amber Prairie...|       Maciasport|joshuacrosby@exam...|    LIC7341944|           MS|Katherine Gonzalez|8172869889|Fisher, Wilson an...|+1-315-999-1278x2...|     prov_5|  Neurology|   AS|                 10|   54202|\n",
      "|                 false|885 Johnson Glen ...|     Jeremiahfurt|                    |    LIC8694447|           VT|     Ashley Daniel|3342934692|    Harris-Hernandez|        633.522.7265|     prov_6|    General|   AR|                 12|   40276|\n",
      "|                  true|0586 Frank Forges...|   Jacquelineview|alfredwashington@...|    LIC7962234|           LA|      Shawna Dixon|6001547691|         Collier LLC|  403.233.2512x12414|     prov_7|Dermatology|   WA|                 32|   17375|\n",
      "|                 false|6465 Reid Groves ...|     Michaelhaven| mmiller@example.net|    LIC0790479|           MA|      Melanie Cruz|2892694222|Brown, Campbell a...|        298.677.6495|     prov_8|Dermatology|   NH|                 30|   77121|\n",
      "|                 false|390 Colleen Loop\\...|      Zacharyport|angelasampson@exa...|    LIC4706297|           AZ|      Lauren Allen|7940527042|          Boone-Dunn|        731.355.3673|     prov_9| Psychiatry|   MN|                 27|   72740|\n",
      "|                  true|69050 David Squar...|       Carsonbury|michael70@example...|    LIC4836838|           HI|       Ryan Miller|5923818118|             Lee LLC|       (796)310-7282|    prov_10|Dermatology|   AZ|                 35|   82324|\n",
      "|                  true|53841 Velasquez M...|Port Jennifertown|  beth87@example.org|    LIC8566234|           MH|       Jordan Long|3666748909|      Martinez Group|+1-425-539-2387x3285|    prov_11|    General|   NV|                 33|   69094|\n",
      "|                  true|1886 Norma Vista ...|      East Carrie| brett48@example.org|    LIC9701130|           ID|        Jack Baker|7055377269|          Wilson Inc|          8577835705|    prov_12| Cardiology|   NJ|                 34|   56856|\n",
      "|                  true|65708 Rodriguez W...|       Port Susan|richardsonjames@e...|    LIC8717981|           MN|       Erica Jones| 516842178|          Powell-Orr|   (769)439-7264x570|    prov_13|    General|   NH|                 16|   87653|\n",
      "|                 false|0667 Richard Spri...|   Richardborough|  ulyons@example.net|    LIC3845865|           CA|     Michele Payne|9647925528|Ross, Vazquez and...|+1-404-760-0771x7886|    prov_14|    General|   CO|                 21|   09577|\n",
      "|                  true|274 Carlos Ways\\n...|      South Wanda|jenniferromero@ex...|    LIC3823226|           TX|      Janet Ingram|1410608649|          Bond Group|   542-807-2345x8645|    prov_15| Cardiology|   LA|                 30|   02589|\n",
      "|                  true|9121 Claire Green...|        Rosemouth| tammy79@example.com|    LIC8398774|           IL|        Cody Smith|3388480904|          Horton PLC|001-440-517-5371x...|    prov_16| Cardiology|   OR|                 15|   92805|\n",
      "|                 false|093 Jennifer Grov...|  Port Anthonyton|ruizbrooke@exampl...|    LIC9469329|           GA|     Tiffany James|5699048495|           Parks LLC| +1-646-592-5839x069|    prov_17| Psychiatry|   WV|                 11|   99380|\n",
      "|                  true|9827 Erin Club\\nL...|      Port Arthur|  gperez@example.org|    LIC9169773|           RI| Kristen Rodriguez|3672943658|    Jenkins-Thompson|        764.431.4730|    prov_18|Dermatology|   MN|                 34|   07610|\n",
      "|                  true|328 Sullivan Stra...|   East Kevinbury|morrisonzachary@e...|    LIC3921249|           KS|   Richard Johnson|4451758220|Shepherd, Henry a...|  716-962-8162x46179|    prov_19|Dermatology|   OK|                 11|   47736|\n",
      "|                  true|52602 Hayden Viad...|     Port Heather| gwright@example.com|    LIC2466588|           UT|       Steven Hill|2533386861|Rodriguez, Ryan a...|001-506-315-7908x116|    prov_20|  Neurology|   NV|                  9|   10848|\n",
      "+----------------------+--------------------+-----------------+--------------------+--------------+-------------+------------------+----------+--------------------+--------------------+-----------+-----------+-----+-------------------+--------+\n",
      "only showing top 20 rows\n",
      "\n"
     ]
    }
   ],
   "source": [
    "df_providers.show()"
   ]
  },
  {
   "cell_type": "code",
   "execution_count": null,
   "metadata": {
    "colab": {
     "base_uri": "https://localhost:8080/"
    },
    "id": "oIXwOO75g_HT",
    "outputId": "d651c9c5-ffca-4b72-c468-469f095b882a"
   },
   "outputs": [],
   "source": [
    "print(\"Bronze Layer Done\")"
   ]
  },
  {
   "cell_type": "code",
   "execution_count": 1,
   "metadata": {
    "id": "KivrYwYChF97"
   },
   "outputs": [
    {
     "name": "stdout",
     "output_type": "stream",
     "text": [
      "shenan connected\n"
     ]
    }
   ],
   "source": [
    "print(\"shenan connected\")"
   ]
  },
  {
   "cell_type": "code",
   "execution_count": null,
   "metadata": {},
   "outputs": [],
   "source": []
  },
  {
   "cell_type": "code",
   "execution_count": null,
   "metadata": {
    "colab": {
     "base_uri": "https://localhost:8080/"
    },
    "id": "sG0iyzJLh6Fn",
    "outputId": "0ac0aafd-b26e-4541-d8c2-ac4e3a786741"
   },
   "outputs": [],
   "source": []
  },
  {
   "cell_type": "code",
   "execution_count": null,
   "metadata": {
    "id": "3csJtPnij2jn"
   },
   "outputs": [],
   "source": []
  },
  {
   "cell_type": "code",
   "execution_count": null,
   "metadata": {
    "colab": {
     "base_uri": "https://localhost:8080/"
    },
    "id": "VNPeFzqKiYdX",
    "outputId": "e7c06cb8-b080-48f2-b5bd-56352dc2c3b6"
   },
   "outputs": [],
   "source": []
  },
  {
   "cell_type": "code",
   "execution_count": null,
   "metadata": {
    "id": "2pZnoV5Jj4XU"
   },
   "outputs": [],
   "source": []
  },
  {
   "cell_type": "code",
   "execution_count": null,
   "metadata": {},
   "outputs": [],
   "source": []
  }
 ],
 "metadata": {
  "colab": {
   "provenance": []
  },
  "kernelspec": {
   "display_name": "Python 3",
   "language": "python",
   "name": "python3"
  },
  "language_info": {
   "codemirror_mode": {
    "name": "ipython",
    "version": 3
   },
   "file_extension": ".py",
   "mimetype": "text/x-python",
   "name": "python",
   "nbconvert_exporter": "python",
   "pygments_lexer": "ipython3",
   "version": "3.10.12"
  }
 },
 "nbformat": 4,
 "nbformat_minor": 1
}
